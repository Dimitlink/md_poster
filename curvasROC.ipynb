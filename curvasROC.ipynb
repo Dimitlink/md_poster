{
 "cells": [
  {
   "cell_type": "code",
   "execution_count": 19,
   "metadata": {
    "collapsed": true
   },
   "outputs": [],
   "source": [
    "import pandas as pd\n",
    "import numpy as np\n",
    "import matplotlib.pyplot as plt\n",
    "from sklearn import model_selection\n",
    "from sklearn import linear_model\n",
    "from sklearn.feature_extraction.text import TfidfVectorizer\n",
    "from nltk.tokenize import word_tokenize\n",
    "from nltk.stem import WordNetLemmatizer\n",
    "from sklearn.feature_extraction import text\n",
    "from sklearn.model_selection import train_test_split\n",
    "from sklearn.metrics import roc_auc_score, f1_score, accuracy_score\n",
    "from sklearn.linear_model import LogisticRegression\n",
    "from sklearn.feature_extraction.text import CountVectorizer\n",
    "from sklearn.metrics import confusion_matrix\n",
    "import seaborn as sns\n",
    "from random import *\n",
    "from sklearn import metrics\n",
    "import matplotlib.pyplot as plt\n",
    "from sklearn.metrics import classification_report\n",
    "from sklearn.decomposition import PCA\n",
    "from sklearn.neural_network import MLPClassifier"
   ]
  },
  {
   "cell_type": "code",
   "execution_count": 20,
   "outputs": [],
   "source": [
    "def reducctionPCA(instances, numAtributes):\n",
    "    '''Método para reducir número de atributos mediante PCA\n",
    "    Parámetros:\n",
    "    -instances: estrucutra de datos que contiene las instancias junto a sus atributos\n",
    "    -numAtributes: el número de atributos deseado'''\n",
    "\n",
    "    pca = PCA(n_components=numAtributes)\n",
    "    pca.fit(instances)\n",
    "    instances = pca.transform(instances)\n",
    "\n",
    "    return instances"
   ],
   "metadata": {
    "collapsed": false
   }
  },
  {
   "cell_type": "code",
   "execution_count": 21,
   "outputs": [],
   "source": [
    "def tfidf(dataframe):\n",
    "    '''Método utlizado para convertir un atributo en formato texto, a números\n",
    "    Parámetros:\n",
    "    -dataframe: estrucutra de datos que contiene las instancia junto a sus atributos\n",
    "    -columnName: nombre de columna del dataframe que se desea transformar'''\n",
    "\n",
    "    vectorizer = TfidfVectorizer()\n",
    "    lemma = WordNetLemmatizer()\n",
    "    sw = [lemma.lemmatize(w) for w in text.ENGLISH_STOP_WORDS]\n",
    "\n",
    "    vectors = []\n",
    "    for r in dataframe['text']:\n",
    "        txt = word_tokenize(r)\n",
    "        newtxt = \"\"\n",
    "        for w in txt:\n",
    "            if w not in sw:\n",
    "                l = lemma.lemmatize(w)\n",
    "                newtxt += l+\" \"\n",
    "\n",
    "        vectors.append(newtxt)\n",
    "\n",
    "    vectors = vectorizer.fit_transform(vectors)\n",
    "    vectors= vectors.toarray()\n",
    "    vectors=pd.DataFrame(vectors)\n",
    "\n",
    "    return vectors"
   ],
   "metadata": {
    "collapsed": false
   }
  },
  {
   "cell_type": "code",
   "execution_count": 22,
   "outputs": [],
   "source": [
    "def assignLabels(data):\n",
    "    data['humor']=False\n",
    "    for index, row in data.iterrows():\n",
    "        if index < len(data)/2:\n",
    "            data['humor'].iloc[index]=False\n",
    "        else:\n",
    "            data['humor'].iloc[index]=True\n",
    "\n",
    "    return data"
   ],
   "metadata": {
    "collapsed": false
   }
  },
  {
   "cell_type": "code",
   "execution_count": 23,
   "outputs": [],
   "source": [
    "def testAndTrain(data):\n",
    "    from sklearn.model_selection import train_test_split\n",
    "    x_train , x_test , y_train , y_test = train_test_split(data.drop(labels='humor', axis=1) , data['humor'],test_size = 0.2 , random_state = 57)\n",
    "    return x_train , x_test , y_train , y_test"
   ],
   "metadata": {
    "collapsed": false
   }
  },
  {
   "cell_type": "code",
   "execution_count": 24,
   "outputs": [
    {
     "name": "stderr",
     "output_type": "stream",
     "text": [
      "C:\\Users\\julia\\AppData\\Local\\Temp\\ipykernel_3240\\2688960289.py:5: SettingWithCopyWarning: \n",
      "A value is trying to be set on a copy of a slice from a DataFrame\n",
      "\n",
      "See the caveats in the documentation: https://pandas.pydata.org/pandas-docs/stable/user_guide/indexing.html#returning-a-view-versus-a-copy\n",
      "  data['humor'].iloc[index]=False\n",
      "C:\\Users\\julia\\AppData\\Local\\Temp\\ipykernel_3240\\2688960289.py:7: SettingWithCopyWarning: \n",
      "A value is trying to be set on a copy of a slice from a DataFrame\n",
      "\n",
      "See the caveats in the documentation: https://pandas.pydata.org/pandas-docs/stable/user_guide/indexing.html#returning-a-view-versus-a-copy\n",
      "  data['humor'].iloc[index]=True\n",
      "C:\\Users\\julia\\AppData\\Local\\Temp\\ipykernel_3240\\2688960289.py:5: SettingWithCopyWarning: \n",
      "A value is trying to be set on a copy of a slice from a DataFrame\n",
      "\n",
      "See the caveats in the documentation: https://pandas.pydata.org/pandas-docs/stable/user_guide/indexing.html#returning-a-view-versus-a-copy\n",
      "  data['humor'].iloc[index]=False\n",
      "C:\\Users\\julia\\AppData\\Local\\Temp\\ipykernel_3240\\2688960289.py:7: SettingWithCopyWarning: \n",
      "A value is trying to be set on a copy of a slice from a DataFrame\n",
      "\n",
      "See the caveats in the documentation: https://pandas.pydata.org/pandas-docs/stable/user_guide/indexing.html#returning-a-view-versus-a-copy\n",
      "  data['humor'].iloc[index]=True\n",
      "C:\\Users\\julia\\AppData\\Local\\Temp\\ipykernel_3240\\2688960289.py:5: SettingWithCopyWarning: \n",
      "A value is trying to be set on a copy of a slice from a DataFrame\n",
      "\n",
      "See the caveats in the documentation: https://pandas.pydata.org/pandas-docs/stable/user_guide/indexing.html#returning-a-view-versus-a-copy\n",
      "  data['humor'].iloc[index]=False\n",
      "C:\\Users\\julia\\AppData\\Local\\Temp\\ipykernel_3240\\2688960289.py:7: SettingWithCopyWarning: \n",
      "A value is trying to be set on a copy of a slice from a DataFrame\n",
      "\n",
      "See the caveats in the documentation: https://pandas.pydata.org/pandas-docs/stable/user_guide/indexing.html#returning-a-view-versus-a-copy\n",
      "  data['humor'].iloc[index]=True\n",
      "C:\\mineria\\lib\\site-packages\\sklearn\\neural_network\\_multilayer_perceptron.py:536: ConvergenceWarning: lbfgs failed to converge (status=1):\n",
      "STOP: TOTAL NO. of ITERATIONS REACHED LIMIT.\n",
      "\n",
      "Increase the number of iterations (max_iter) or scale the data as shown in:\n",
      "    https://scikit-learn.org/stable/modules/preprocessing.html\n",
      "  self.n_iter_ = _check_optimize_result(\"lbfgs\", opt_res, self.max_iter)\n"
     ]
    },
    {
     "data": {
      "text/plain": "<matplotlib.legend.Legend at 0x1c551f5a890>"
     },
     "execution_count": 24,
     "metadata": {},
     "output_type": "execute_result"
    },
    {
     "data": {
      "text/plain": "<Figure size 640x480 with 1 Axes>",
      "image/png": "[encoded data removed]"
     },
     "metadata": {},
     "output_type": "display_data"
    }
   ],
   "source": [
    "#Creación de la gráfica de curvas ROC\n",
    "dataset = pd.read_csv('dataset.csv')\n",
    "serious_text = dataset[dataset['humor'] == False].sample(5000)\n",
    "humor_text = dataset[dataset['humor'] == True].sample(5000)\n",
    "dataframe = pd.concat([serious_text, humor_text])\n",
    "\n",
    "\n",
    "df_tfidf = tfidf(dataframe)\n",
    "instances = reducctionPCA(df_tfidf, 350)\n",
    "instances = pd.DataFrame(instances)\n",
    "instances = assignLabels(instances)\n",
    "\n",
    "x_train , x_test , y_train , y_test = testAndTrain(instances)\n",
    "\n",
    "\n",
    "clf = MLPClassifier(solver='lbfgs',activation='relu', alpha=1, hidden_layer_sizes=(4,), random_state=1, max_iter=1500)\n",
    "clf.fit(x_train, y_train)\n",
    "preds = clf.predict(x_test)\n",
    "y_pred = clf.predict_proba(x_test)[:, 1]\n",
    "fpr, tpr, _ = metrics.roc_curve(y_test, y_pred)\n",
    "auc = round(metrics.roc_auc_score(y_test, y_pred), 4)\n",
    "plt.plot(fpr,tpr,label=\"hl = 4,i = 1500, atr = 350 AUC=\"+str(auc))\n",
    "plt.legend()\n",
    "\n",
    "dataset = pd.read_csv('dataset.csv')\n",
    "serious_text = dataset[dataset['humor'] == False].sample(5000)\n",
    "humor_text = dataset[dataset['humor'] == True].sample(5000)\n",
    "dataframe = pd.concat([serious_text, humor_text])\n",
    "\n",
    "\n",
    "\n",
    "df_tfidf = tfidf(dataframe)\n",
    "instances = reducctionPCA(df_tfidf, 350)\n",
    "instances = pd.DataFrame(instances)\n",
    "instances = assignLabels(instances)\n",
    "\n",
    "x_train , x_test , y_train , y_test = testAndTrain(instances)\n",
    "\n",
    "clf = MLPClassifier(solver='lbfgs',activation='relu', alpha=1, hidden_layer_sizes=(8,), random_state=1, max_iter=2000)\n",
    "clf.fit(x_train, y_train)\n",
    "preds = clf.predict(x_test)\n",
    "y_pred = clf.predict_proba(x_test)[:, 1]\n",
    "fpr, tpr, _ = metrics.roc_curve(y_test, y_pred)\n",
    "auc = round(metrics.roc_auc_score(y_test, y_pred), 4)\n",
    "plt.plot(fpr,tpr,label=\"hl = 4, i = 2000, atr = 350 AUC=\"+str(auc))\n",
    "plt.legend()\n",
    "\n",
    "dataset = pd.read_csv('dataset.csv')\n",
    "serious_text = dataset[dataset['humor'] == False].sample(5000)\n",
    "humor_text = dataset[dataset['humor'] == True].sample(5000)\n",
    "dataframe = pd.concat([serious_text, humor_text])\n",
    "\n",
    "\n",
    "df_tfidf = tfidf(dataframe)\n",
    "instances = reducctionPCA(df_tfidf, 350)\n",
    "instances = pd.DataFrame(instances)\n",
    "instances = assignLabels(instances)\n",
    "\n",
    "x_train , x_test , y_train , y_test = testAndTrain(instances)\n",
    "\n",
    "clf = MLPClassifier(solver='lbfgs',activation='relu', alpha=1, hidden_layer_sizes=(8,), random_state=1, max_iter=2000)\n",
    "clf.fit(x_train, y_train)\n",
    "preds = clf.predict(x_test)\n",
    "y_pred = clf.predict_proba(x_test)[:, 1]\n",
    "fpr, tpr, _ = metrics.roc_curve(y_test, y_pred)\n",
    "auc = round(metrics.roc_auc_score(y_test, y_pred), 4)\n",
    "plt.plot(fpr,tpr,label=\"hl = 8, i = 2000, atr = 350, AUC=\"+str(auc))\n",
    "plt.legend()"
   ],
   "metadata": {
    "collapsed": false
   }
  }
 ],
 "metadata": {
  "kernelspec": {
   "display_name": "Python 3",
   "language": "python",
   "name": "python3"
  },
  "language_info": {
   "codemirror_mode": {
    "name": "ipython",
    "version": 2
   },
   "file_extension": ".py",
   "mimetype": "text/x-python",
   "name": "python",
   "nbconvert_exporter": "python",
   "pygments_lexer": "ipython2",
   "version": "2.7.6"
  }
 },
 "nbformat": 4,
 "nbformat_minor": 0
}
